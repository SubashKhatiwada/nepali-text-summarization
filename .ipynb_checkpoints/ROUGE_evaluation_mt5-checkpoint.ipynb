{
 "cells": [
  {
   "cell_type": "code",
   "execution_count": 2,
   "id": "27059833-c8fa-4e55-ba7c-f244b766fbeb",
   "metadata": {},
   "outputs": [
    {
     "name": "stderr",
     "output_type": "stream",
     "text": [
      "The tokenizer class you load from this checkpoint is not the same type as the class this function is called from. It may result in unexpected tokenization. \n",
      "The tokenizer class you load from this checkpoint is 'T5Tokenizer'. \n",
      "The class this function is called from is 'MT5Tokenizer'.\n",
      "You are using the default legacy behaviour of the <class 'transformers.models.mt5.tokenization_mt5.MT5Tokenizer'>. This is expected, and simply means that the `legacy` (previous) behavior will be used so nothing changes for you. If you want to use the new behaviour, set `legacy=False`. This should only be set if you understand what it means, and thoroughly read the reason why this was added as explained in https://github.com/huggingface/transformers/pull/24565\n",
      "100%|███████████████████████████████████████████| 89/89 [05:55<00:00,  4.00s/it]"
     ]
    },
    {
     "name": "stdout",
     "output_type": "stream",
     "text": [
      "Predictions saved to mt5_predictions_with_summaries\n"
     ]
    },
    {
     "name": "stderr",
     "output_type": "stream",
     "text": [
      "\n"
     ]
    }
   ],
   "source": [
    "from transformers import MT5ForConditionalGeneration, MT5Tokenizer\n",
    "import torch\n",
    "import pandas as pd\n",
    "from tqdm import tqdm\n",
    "\n",
    "# Initialize device\n",
    "device = torch.device(\"cuda\" if torch.cuda.is_available() else \"cpu\")\n",
    "\n",
    "# Load model and tokenizer\n",
    "model_path = \"mt5-nepali-summarization\"  # Your trained model path\n",
    "tokenizer = MT5Tokenizer.from_pretrained(\"google/mt5-small\")\n",
    "model = MT5ForConditionalGeneration.from_pretrained(model_path).to(device)\n",
    "\n",
    "def batch_summarize(texts, batch_size=4, max_length=150, min_length=50):\n",
    "    \"\"\"Batch summarize Nepali texts\"\"\"\n",
    "    summaries = []\n",
    "    \n",
    "    for i in tqdm(range(0, len(texts), batch_size)):\n",
    "        batch = texts[i:i+batch_size]\n",
    "        \n",
    "        # Tokenize batch\n",
    "        inputs = tokenizer(\n",
    "            batch,\n",
    "            return_tensors=\"pt\",\n",
    "            padding=True,\n",
    "            truncation=True,\n",
    "            max_length=512\n",
    "        ).to(device)\n",
    "        \n",
    "        # Generate summaries\n",
    "        generated_tokens = model.generate(\n",
    "            **inputs,\n",
    "            max_length=max_length,\n",
    "            min_length=min_length,\n",
    "            num_beams=4,\n",
    "            early_stopping=True,\n",
    "            no_repeat_ngram_size=2\n",
    "        )\n",
    "        \n",
    "        # Decode\n",
    "        batch_summaries = tokenizer.batch_decode(\n",
    "            generated_tokens,\n",
    "            skip_special_tokens=True\n",
    "        )\n",
    "        \n",
    "        summaries.extend(batch_summaries)\n",
    "    \n",
    "    return summaries\n",
    "\n",
    "# Load test data\n",
    "test_df = pd.read_csv(\"test_dataset.csv\")\n",
    "\n",
    "# Process in batches\n",
    "test_df[\"predicted_summary\"] = batch_summarize(test_df[\"text\"].tolist())\n",
    "\n",
    "# Save results\n",
    "output_path = \"mt5_predictions_with_summaries.csv\"\n",
    "test_df.to_csv(output_path, index=False)\n",
    "print(f\"Predictions saved to {output_path}\")"
   ]
  },
  {
   "cell_type": "code",
   "execution_count": 7,
   "id": "d495dc86-574c-450f-9056-302fe8b2d455",
   "metadata": {},
   "outputs": [
    {
     "name": "stdout",
     "output_type": "stream",
     "text": [
      "ROUGE Scores:\n",
      "ROUGE-1: f=0.1391, p=0.1336, r=0.1559\n",
      "ROUGE-2: f=0.0326, p=0.0321, r=0.0352\n",
      "ROUGE-L: f=0.1186, p=0.1134, r=0.1338\n"
     ]
    }
   ],
   "source": [
    "from rouge import Rouge\n",
    "import pandas as pd\n",
    "\n",
    "# Load your predictions file\n",
    "predictions_df = pd.read_csv(\"mt5_predictions_with_summaries.csv\")\n",
    "\n",
    "# Initialize ROUGE evaluator\n",
    "rouge = Rouge()\n",
    "\n",
    "# Calculate ROUGE scores\n",
    "scores = rouge.get_scores(\n",
    "    predictions_df[\"predicted_summary\"].tolist(),  # Generated summaries\n",
    "    predictions_df[\"summary\"].tolist(),           # Reference summaries (gold standard)\n",
    "    avg=True\n",
    ")\n",
    "\n",
    "# Print formatted results\n",
    "print(\"ROUGE Scores:\")\n",
    "print(f\"ROUGE-1: f={scores['rouge-1']['f']:.4f}, p={scores['rouge-1']['p']:.4f}, r={scores['rouge-1']['r']:.4f}\")\n",
    "print(f\"ROUGE-2: f={scores['rouge-2']['f']:.4f}, p={scores['rouge-2']['p']:.4f}, r={scores['rouge-2']['r']:.4f}\")\n",
    "print(f\"ROUGE-L: f={scores['rouge-l']['f']:.4f}, p={scores['rouge-l']['p']:.4f}, r={scores['rouge-l']['r']:.4f}\")"
   ]
  },
  {
   "cell_type": "code",
   "execution_count": null,
   "id": "6c798d97-d4ce-4442-b170-91450f12cfef",
   "metadata": {},
   "outputs": [],
   "source": []
  }
 ],
 "metadata": {
  "kernelspec": {
   "display_name": "Python 3 (ipykernel)",
   "language": "python",
   "name": "python3"
  },
  "language_info": {
   "codemirror_mode": {
    "name": "ipython",
    "version": 3
   },
   "file_extension": ".py",
   "mimetype": "text/x-python",
   "name": "python",
   "nbconvert_exporter": "python",
   "pygments_lexer": "ipython3",
   "version": "3.12.4"
  }
 },
 "nbformat": 4,
 "nbformat_minor": 5
}
